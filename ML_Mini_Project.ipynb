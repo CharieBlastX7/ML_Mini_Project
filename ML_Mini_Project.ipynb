{
 "cells": [
  {
   "cell_type": "code",
   "execution_count": 15,
   "id": "75de1a0f",
   "metadata": {},
   "outputs": [
    {
     "data": {
      "application/vnd.jupyter.widget-view+json": {
       "model_id": "72759173acfe410fa03098d3f7e927db",
       "version_major": 2,
       "version_minor": 0
      },
      "text/plain": [
       "HTML(value='<h1>ML PROJECT</h1>')"
      ]
     },
     "metadata": {},
     "output_type": "display_data"
    }
   ],
   "source": [
    "import pandas as pd\n",
    "from sklearn import linear_model\n",
    "from time import time\n",
    "from sklearn.model_selection import train_test_split\n",
    "from sklearn import metrics\n",
    "import matplotlib.pyplot as plt\n",
    "import seaborn as sns\n",
    "from sklearn import tree\n",
    "from sklearn.metrics import accuracy_score,confusion_matrix, classification_report\n",
    "from sklearn import svm\n",
    "import networkx as nx\n",
    "from sklearn.cluster import DBSCAN\n",
    "from sklearn.preprocessing import StandardScaler\n",
    "from sklearn.preprocessing import normalize\n",
    "from sklearn.decomposition import PCA\n",
    "from sklearn.ensemble import BaggingClassifier, AdaBoostClassifier\n",
    "from sklearn.tree import DecisionTreeClassifier\n",
    "from ipywidgets import widgets\n",
    "from IPython.display import display, clear_output\n",
    "\n",
    "output = widgets.Output()\n",
    "\n",
    "\n",
    "df = pd.read_csv(\"heart.csv\")\n",
    "df\n",
    "\n",
    "title = widgets.HTML(value = \"<h1 style='color:red;'>ML PROJECT</h1>\")\n",
    "display(title)"
   ]
  },
  {
   "cell_type": "code",
   "execution_count": 16,
   "id": "466be1e7",
   "metadata": {},
   "outputs": [
    {
     "data": {
      "application/vnd.jupyter.widget-view+json": {
       "model_id": "491d3d9a0f26463a8763caf9e8980ac0",
       "version_major": 2,
       "version_minor": 0
      },
      "text/plain": [
       "HTML(value='<h3>Topic: Healthcare</h3>')"
      ]
     },
     "metadata": {},
     "output_type": "display_data"
    },
    {
     "data": {
      "application/vnd.jupyter.widget-view+json": {
       "model_id": "75787de12db243e9967e88a1fed810ab",
       "version_major": 2,
       "version_minor": 0
      },
      "text/plain": [
       "HTML(value='<h3>Dataset chosen: heart.csv</h3>')"
      ]
     },
     "metadata": {},
     "output_type": "display_data"
    },
    {
     "data": {
      "application/vnd.jupyter.widget-view+json": {
       "model_id": "8944ac241e384c1c898dab271fdb17a9",
       "version_major": 2,
       "version_minor": 0
      },
      "text/plain": [
       "HTML(value='<br/><hr/>')"
      ]
     },
     "metadata": {},
     "output_type": "display_data"
    },
    {
     "data": {
      "application/vnd.jupyter.widget-view+json": {
       "model_id": "787e5ba1bb9342faa1d988cf7c98596d",
       "version_major": 2,
       "version_minor": 0
      },
      "text/plain": [
       "HTML(value='<h3>Dataset parameters</h3>')"
      ]
     },
     "metadata": {},
     "output_type": "display_data"
    },
    {
     "data": {
      "application/vnd.jupyter.widget-view+json": {
       "model_id": "e61d259630694b6daa7457c0ff1f2317",
       "version_major": 2,
       "version_minor": 0
      },
      "text/plain": [
       "HTML(value='\\n    <ul>\\n        <li>age: Age of the person in years</li>\\n        <li>sex: Male(1) or Female(0…"
      ]
     },
     "metadata": {},
     "output_type": "display_data"
    }
   ],
   "source": [
    "# Basic information\n",
    "\n",
    "sub_label_1 = widgets.HTML(value=\"<h3>Topic: Healthcare</h3>\")\n",
    "sub_label_2 = widgets.HTML(value=\"<h3>Dataset chosen: heart.csv</h3>\")\n",
    "sub_label_3 = widgets.HTML(value=\"<br/><hr/>\")\n",
    "\n",
    "\n",
    "display(sub_label_1)\n",
    "display(sub_label_2)\n",
    "display(sub_label_3)\n",
    "\n",
    "# Heart dataset parameters\n",
    "sub_label_4 = widgets.HTML(value=\"<h3>Dataset parameters</h3>\")\n",
    "ul_s = widgets.HTML(value='''\n",
    "    <ul>\n",
    "        <li>age: Age of the person in years</li>\n",
    "        <li>sex: Male(1) or Female(0)</li>\n",
    "        <li>cp: Chest pain type (0-3)</li>\n",
    "        <li>trestbps: Resting blood pressure (in mm/Hg on admission to hospital)</li>\n",
    "        <li>chol: Serum cholestrol in mg/dl</li>\n",
    "        <li>fbs: Fasting blood sugar (>120mg/dl => 1: True, 0:False) </li>\n",
    "        <li>restecg: Resting electrocardiographic results (0-2)</li>\n",
    "        <li>thalach: Maximum heart rate achieved</li>\n",
    "        <li>exang: Exercise induced angina (1: Yes, 0: No)</li>\n",
    "        <li>oldpeak: ST depression rate induced by exercise relative to rest</li>\n",
    "        <li>slope: The slope of the peak exercise ST segment (0-2)</li>\n",
    "        <li>ca: Number of major vessels coloured by fluoroscopy (0-3)</li>\n",
    "        <li>thal: 1=normal, 2=fixed, 3=reversible defect</li>\n",
    "        <li>target: 1 or 0</li>\n",
    "    </ul>\n",
    "''')\n",
    "display(sub_label_4)\n",
    "display(ul_s)"
   ]
  },
  {
   "cell_type": "code",
   "execution_count": 17,
   "id": "ba3d8013",
   "metadata": {},
   "outputs": [],
   "source": [
    "@output.capture(clear_output=True,wait=True)\n",
    "def linear_regression(b):\n",
    "    df.trestbps = df.trestbps.fillna(df.trestbps.median())\n",
    "    reg = linear_model.LinearRegression()\n",
    "    reg.fit(df[['age','sex','cp','trestbps','chol','fbs','restecg','thalach','exang','oldpeak','slope','ca','thal']], df.target)\n",
    "    \n",
    "    coff_label = widgets.Label(f'Coefficient: {reg.coef_}')\n",
    "    intc_label = widgets.Label(f'Intercept: {reg.intercept_}')\n",
    "    \n",
    "    display(coff_label)\n",
    "    display(intc_label)\n",
    "    \n",
    "    age_val = widgets.Text(placeholder=\"Enter age\")\n",
    "    sex_tb = widgets.Text(placeholder=\"Enter 0 or 1\")\n",
    "    chest_pain_val = widgets.Text(placeholder=\"Enter Chest pain type (4 values)\")\n",
    "    trestbps_val = widgets.Text(placeholder=\"Resting blood pressure\")\n",
    "    chol_val = widgets.Text(placeholder=\"Cholestrol in mg/dl\")\n",
    "    fbs_val = widgets.Text(placeholder=\"Fasting blood sugar > 120 mg/dl\")\n",
    "    restecg_val = widgets.Text(placeholder=\"Resting ECG value\")\n",
    "    thalach_val = widgets.Text(placeholder=\"Maximum heart rate acheived\")\n",
    "    exang_val = widgets.Text(placeholder=\"Exercise Induced Angina\")\n",
    "    old_peak_val = widgets.Text(placeholder=\"ST Depression induced by exercise relative to rest\")\n",
    "    slope_val = widgets.Text(placeholder=\"Slope of the peak exercise ST Segment\")\n",
    "    ca_val = widgets.Text(placeholder=\"Number of major vessels coloured by fluoroscopy\")\n",
    "    thal_val = widgets.Text(placeholder=\"Thal\")\n",
    "    \n",
    "    display(age_val)\n",
    "    display(sex_tb)\n",
    "    display(chest_pain_val)\n",
    "    display(trestbps_val)\n",
    "    display(chol_val)\n",
    "    display(fbs_val)\n",
    "    display(restecg_val)\n",
    "    display(thalach_val)\n",
    "    display(exang_val)\n",
    "    display(old_peak_val)\n",
    "    display(slope_val)\n",
    "    display(ca_val)\n",
    "    display(thal_val)\n",
    "   \n",
    "    @output.capture(clear_output=False,wait=True)\n",
    "    def calc_target(b):\n",
    "        target = reg.predict([[int(age_val.value),int(sex_tb.value),int(chest_pain_val.value),int(trestbps_val.value),int(chol_val.value),int(fbs_val.value),int(restecg_val.value),int(thalach_val.value),int(exang_val.value),int(old_peak_val.value),int(slope_val.value),int(ca_val.value),int(thal_val.value)]])\n",
    "        targ_lab = widgets.Label(f'Target value: {target}')\n",
    "        display(targ_lab)\n",
    "    \n",
    "    calc_btn = widgets.Button(description=\"Calculate Target\")\n",
    "    calc_btn.on_click(calc_target)\n",
    "    display(calc_btn)\n",
    "    \n",
    "\n",
    "    \n",
    "                               \n",
    "    "
   ]
  },
  {
   "cell_type": "code",
   "execution_count": 18,
   "id": "be4d2a5e",
   "metadata": {},
   "outputs": [],
   "source": [
    "# helper function\n",
    "def plot_confusionmatrix(y_train_pred,y_train,classes,dom):\n",
    "    print(f'{dom} Confusion matrix')\n",
    "    cf = confusion_matrix(y_train_pred,y_train)\n",
    "    sns.heatmap(cf,annot=True,yticklabels=classes,xticklabels=classes,cmap='Blues', fmt='g')\n",
    "    plt.tight_layout()\n",
    "    plt.show()\n",
    "\n",
    "@output.capture(clear_output=True,wait=True)    \n",
    "def CART_analysis(b):\n",
    "    X = df.drop(columns=['target','age','trestbps','chol','thalach','oldpeak','cp','slope','thal','ca','exang','restecg'])\n",
    "    y = df['target']\n",
    "    x_train,x_test,y_train,y_test = train_test_split(X,y,stratify=y)\n",
    "    clf = tree.DecisionTreeClassifier(random_state=0)\n",
    "    clf.fit(x_train,y_train)\n",
    "    y_train_pred = clf.predict(x_train)\n",
    "    y_test_pred = clf.predict(x_test)\n",
    "    \n",
    "    # Print decision tree.\n",
    "    plt.figure(figsize=(20,20))\n",
    "    features = df.columns\n",
    "    classes = ['Not heart disease','heart disease']\n",
    "    tree.plot_tree(clf,feature_names=features,class_names=classes,filled=True)\n",
    "    plt.show()\n",
    "    \n",
    "    # Matrix diagram (heat map)\n",
    "    print(f'Train score: {accuracy_score(y_train_pred,y_train)}')\n",
    "    print(f'Test score: {accuracy_score(y_test_pred,y_test)}')\n",
    "    plot_confusionmatrix(y_train_pred,y_train,classes,dom='Train')\n",
    "    plot_confusionmatrix(y_test_pred,y_test,classes,dom='Test')\n",
    "\n"
   ]
  },
  {
   "cell_type": "code",
   "execution_count": 19,
   "id": "6d7702aa",
   "metadata": {},
   "outputs": [],
   "source": [
    "@output.capture(clear_output=True,wait=True)\n",
    "def heart_svm(b):\n",
    "    x = df.drop(columns=[\"target\"])\n",
    "    y = df[\"target\"]\n",
    "    x_train, x_test, y_train, y_test = train_test_split(x,y,test_size=0.3, random_state=109)\n",
    "    clf = svm.SVC(kernel='linear')\n",
    "    clf.fit(x_train,y_train)\n",
    "    y_pred = clf.predict(x_test)\n",
    "    \n",
    "    # Print out metrics.\n",
    "    print(\"Accuracy:\",metrics.accuracy_score(y_test, y_pred))\n",
    "    print(\"Precision:\",metrics.precision_score(y_test, y_pred))\n",
    "    print(\"Recall:\",metrics.recall_score(y_test, y_pred))\n",
    "    \n",
    "    # Plot data\n",
    "    plt.plot(x_test, y_pred, \"*\")\n",
    "    plt.show()"
   ]
  },
  {
   "cell_type": "code",
   "execution_count": 20,
   "id": "941f59c9",
   "metadata": {},
   "outputs": [],
   "source": [
    "@output.capture(clear_output=True,wait=True)\n",
    "def graph_clustering(b):\n",
    "    x = df[\"age\"]\n",
    "    y = df[\"chol\"]\n",
    "    q = df['trestbps']\n",
    "    p = df[\"target\"]\n",
    "    z = [(y[i],p[i]) for i in range(len(x))]\n",
    "    \n",
    "    G = nx.Graph()\n",
    "    G.add_edges_from(z)\n",
    "    plt.figure(figsize=(12,12))\n",
    "    nx.draw(G,with_labels=True, node_color='green')\n",
    "    plt.show()"
   ]
  },
  {
   "cell_type": "code",
   "execution_count": 21,
   "id": "fe0ff974",
   "metadata": {},
   "outputs": [],
   "source": [
    "@output.capture(clear_output=True,wait=True)\n",
    "def DBSCAN_algo(b):\n",
    "    # Scaling the data to bring all the attributes to a comparable level\n",
    "    scaler = StandardScaler()\n",
    "    X_scaled = scaler.fit_transform(df)\n",
    "\n",
    "    # Normalizing the data so that \n",
    "    # the data approximately follows a Gaussian distribution\n",
    "    X_normalized = normalize(X_scaled)\n",
    "\n",
    "    # Converting the numpy array into a pandas DataFrame\n",
    "    X_normalized = pd.DataFrame(X_normalized)\n",
    "    \n",
    "    pca = PCA(n_components = 2)\n",
    "    X_principal = pca.fit_transform(X_normalized)\n",
    "    X_principal = pd.DataFrame(X_principal)\n",
    "    X_principal.columns = ['P1', 'P2']\n",
    "    \n",
    "    db_default = DBSCAN(eps = 0.0375, min_samples = 3).fit(X_principal)\n",
    "    labels = db_default.labels_\n",
    "    \n",
    "    db = DBSCAN(eps = 0.0375, min_samples = 50).fit(X_principal)\n",
    "    labels1 = db.labels_\n",
    "    \n",
    "    colours1 = {}\n",
    "    colours1[0] = 'r'\n",
    "    colours1[1] = 'g'\n",
    "    colours1[2] = 'b'\n",
    "    colours1[3] = 'c'\n",
    "    colours1[4] = 'y'\n",
    "    colours1[5] = 'm'\n",
    "    colours1[-1] = 'k'\n",
    "\n",
    "    cvec = [colours1[label%6] for label in labels]\n",
    "    colors = ['r', 'g', 'b', 'c', 'y', 'm', 'k' ]\n",
    "\n",
    "    r = plt.scatter(\n",
    "            X_principal['P1'], X_principal['P2'], marker ='o', color = colors[0])\n",
    "    g = plt.scatter(\n",
    "            X_principal['P1'], X_principal['P2'], marker ='o', color = colors[1])\n",
    "    b = plt.scatter(\n",
    "            X_principal['P1'], X_principal['P2'], marker ='o', color = colors[2])\n",
    "    c = plt.scatter(\n",
    "            X_principal['P1'], X_principal['P2'], marker ='o', color = colors[3])\n",
    "    y = plt.scatter(\n",
    "            X_principal['P1'], X_principal['P2'], marker ='o', color = colors[4])\n",
    "    m = plt.scatter(\n",
    "            X_principal['P1'], X_principal['P2'], marker ='o', color = colors[5])\n",
    "    k = plt.scatter(\n",
    "            X_principal['P1'], X_principal['P2'], marker ='o', color = colors[6])\n",
    "\n",
    "    plt.figure(figsize =(9, 9))\n",
    "    plt.scatter(X_principal['P1'], X_principal['P2'], c = cvec)\n",
    "    plt.legend((r, g, b, c, y, m, k),\n",
    "               ('Label 0', 'Label 1', 'Label 2', 'Label 3','Label 4','Label 5', 'Label -1'),\n",
    "               scatterpoints = 1,\n",
    "               loc ='upper left',\n",
    "               ncol = 3,\n",
    "               fontsize = 8)\n",
    "    plt.show()"
   ]
  },
  {
   "cell_type": "code",
   "execution_count": 22,
   "id": "bf6e5565",
   "metadata": {},
   "outputs": [],
   "source": [
    "@output.capture(clear_output=True,wait=True)\n",
    "def ensemble_learning(b):\n",
    "    y = df[\"target\"]\n",
    "    x = df.drop(columns=[\"target\"])\n",
    "\n",
    "    X_train, X_test, y_train, y_test = train_test_split(x, y, test_size = 0.25, random_state = 22)\n",
    "\n",
    "    estimator_range = [2,4,6,8,10,12,14,16]\n",
    "\n",
    "    models = []\n",
    "    scores = []\n",
    "\n",
    "    for n_estimators in estimator_range:\n",
    "\n",
    "        # Create bagging classifier\n",
    "        clf = BaggingClassifier(n_estimators = n_estimators, random_state=22)\n",
    "\n",
    "        # Fit the model\n",
    "        clf.fit(X_train, y_train)\n",
    "\n",
    "        # Append the model and score to their respective list\n",
    "        models.append(clf)\n",
    "        scores.append(accuracy_score(y_true = y_test, y_pred = clf.predict(X_test)))\n",
    "\n",
    "    # Generate the plot of scores against number of estimators\n",
    "    plt.figure(figsize=(9,6))\n",
    "    plt.plot(estimator_range, scores)\n",
    "\n",
    "    # Adjust labels and font (to make visable)\n",
    "    plt.xlabel(\"n_estimators\", fontsize = 18)\n",
    "    plt.ylabel(\"score\", fontsize = 18)\n",
    "    plt.tick_params(labelsize = 16)\n",
    "\n",
    "    print(scores)\n",
    "    # Visualize plot\n",
    "    # Bagging plots\n",
    "    plt.show() \n",
    "    \n",
    "    \n",
    "    # Boosting plots\n",
    "    estimator_range = [2,4,6,8,10,12,14,16]\n",
    "\n",
    "    models = []\n",
    "    scores = []\n",
    "\n",
    "    for n_estimators in estimator_range:\n",
    "\n",
    "        # Create bagging classifier\n",
    "        clf = AdaBoostClassifier(n_estimators = n_estimators)\n",
    "\n",
    "        # Fit the model\n",
    "        clf.fit(X_train, y_train)\n",
    "\n",
    "        # Append the model and score to their respective list\n",
    "        models.append(clf)\n",
    "        scores.append(accuracy_score(y_true = y_test, y_pred = clf.predict(X_test)))\n",
    "\n",
    "    # Generate the plot of scores against number of estimators\n",
    "    plt.figure(figsize=(9,6))\n",
    "    plt.plot(estimator_range, scores)\n",
    "\n",
    "    # Adjust labels and font (to make visable)\n",
    "    plt.xlabel(\"n_estimators\", fontsize = 18)\n",
    "    plt.ylabel(\"score\", fontsize = 18)\n",
    "    plt.tick_params(labelsize = 16)\n",
    "\n",
    "\n",
    "    print(scores)\n",
    "\n",
    "    # Visualize plot\n",
    "    plt.show() "
   ]
  },
  {
   "cell_type": "code",
   "execution_count": 23,
   "id": "8f98c211",
   "metadata": {},
   "outputs": [
    {
     "name": "stderr",
     "output_type": "stream",
     "text": [
      "Enabling notebook extension jupyter-js-widgets/extension...\n",
      "      - Validating: ok\n",
      "Enabling: voila\n",
      "- Writing config: C:\\Users\\adiun\\Github\\ML_Mini_Project\\ml_venv\\etc\\jupyter\n",
      "    - Validating...\n",
      "      voila 0.3.6 ok\n"
     ]
    }
   ],
   "source": [
    "!jupyter nbextension enable --py --sys-prefix widgetsnbextension \n",
    "!jupyter serverextension enable voila --sys-prefix"
   ]
  },
  {
   "cell_type": "code",
   "execution_count": 30,
   "id": "af804da0",
   "metadata": {},
   "outputs": [
    {
     "data": {
      "application/vnd.jupyter.widget-view+json": {
       "model_id": "e27e122dff3c46d69963f613bd6524a9",
       "version_major": 2,
       "version_minor": 0
      },
      "text/plain": [
       "HTML(value='<h2>Choose any of your buttons</h2>')"
      ]
     },
     "metadata": {},
     "output_type": "display_data"
    },
    {
     "data": {
      "application/vnd.jupyter.widget-view+json": {
       "model_id": "49966faba3c94a31a5c0854299dda535",
       "version_major": 2,
       "version_minor": 0
      },
      "text/plain": [
       "HBox(children=(Button(description='Show Table', style=ButtonStyle()), Button(description='Linear Regression', …"
      ]
     },
     "metadata": {},
     "output_type": "display_data"
    },
    {
     "data": {
      "application/vnd.jupyter.widget-view+json": {
       "model_id": "8944ac241e384c1c898dab271fdb17a9",
       "version_major": 2,
       "version_minor": 0
      },
      "text/plain": [
       "HTML(value='<br/><hr/>')"
      ]
     },
     "metadata": {},
     "output_type": "display_data"
    },
    {
     "data": {
      "application/vnd.jupyter.widget-view+json": {
       "model_id": "3aa91682888e4b87bc3e3a2630c734e6",
       "version_major": 2,
       "version_minor": 0
      },
      "text/plain": [
       "Button(description='Clear button', style=ButtonStyle())"
      ]
     },
     "metadata": {},
     "output_type": "display_data"
    },
    {
     "data": {
      "application/vnd.jupyter.widget-view+json": {
       "model_id": "bb2f875c3f264cd692ca27315c5e125d",
       "version_major": 2,
       "version_minor": 0
      },
      "text/plain": [
       "HTML(value='<h2>View your output here: </h2>')"
      ]
     },
     "metadata": {},
     "output_type": "display_data"
    },
    {
     "data": {
      "application/vnd.jupyter.widget-view+json": {
       "model_id": "e5b58772640c4ab79003969775878a61",
       "version_major": 2,
       "version_minor": 0
      },
      "text/plain": [
       "Output()"
      ]
     },
     "metadata": {},
     "output_type": "display_data"
    }
   ],
   "source": [
    "def setup_ui(data_frame):\n",
    "    out = widgets.Output()\n",
    "    with out:\n",
    "        display(data_frame)\n",
    "    return out\n",
    "\n",
    "@output.capture(clear_output=False,wait=True)\n",
    "def show_table(b):\n",
    "    op_1 = setup_ui(df)\n",
    "    main_box = widgets.VBox([op_1])\n",
    "    display(main_box)\n",
    "    \n",
    "@output.capture(clear_output=True,wait=True)\n",
    "def clear_outs(b):\n",
    "    clear_output()\n",
    "\n",
    "\n",
    "label_title = widgets.HTML(value = \"<h2>Choose any of your buttons</h2>\")\n",
    "display(label_title)\n",
    "\n",
    "# Display table\n",
    "tab_disp_btn = widgets.Button(description=\"Show Table\")\n",
    "tab_disp_btn.on_click(show_table)\n",
    "#display(tab_disp_btn)\n",
    "\n",
    "# Display Linear Regression results\n",
    "lin_reg_btn = widgets.Button(description=\"Linear Regression\")\n",
    "lin_reg_btn.on_click(linear_regression)\n",
    "#display(lin_reg_btn)\n",
    "\n",
    "# Display CART Analysis\n",
    "cart_an_btn = widgets.Button(description=\"CART Analysis\")\n",
    "cart_an_btn.on_click(CART_analysis)\n",
    "#display(cart_an_btn)\n",
    "\n",
    "# SVM\n",
    "svm_btn = widgets.Button(description=\"SVM\")\n",
    "svm_btn.on_click(heart_svm)\n",
    "#display(svm_btn)\n",
    "\n",
    "# Graph Clustering\n",
    "gc_btn = widgets.Button(description=\"Graph Clustering\")\n",
    "gc_btn.on_click(graph_clustering)\n",
    "#display(gc_btn)\n",
    "\n",
    "# DBSCAN Algorithm\n",
    "dbscan_btn = widgets.Button(description=\"DBSCAN Algorithm\")\n",
    "dbscan_btn.on_click(DBSCAN_algo)\n",
    "#display(dbscan_btn)\n",
    "\n",
    "# Ensemble learning algorithm\n",
    "ens_btn = widgets.Button(description=\"Ensemble Learning\")\n",
    "ens_btn.on_click(ensemble_learning)\n",
    "#display(ens_btn)\n",
    "\n",
    "models_hbox = widgets.HBox([tab_disp_btn,lin_reg_btn,cart_an_btn,svm_btn,gc_btn,dbscan_btn, ens_btn])\n",
    "display(models_hbox)\n",
    "\n",
    "# Clear output button\n",
    "clr_btn = widgets.Button(description=\"Clear button\")\n",
    "clr_btn.on_click(clear_outs)\n",
    "display(sub_label_3)\n",
    "display(clr_btn)\n",
    "\n",
    "\n",
    "op_label = widgets.HTML(value = \"<h2>View your output here: </h2>\")\n",
    "display(op_label)\n",
    "\n",
    "output"
   ]
  },
  {
   "cell_type": "code",
   "execution_count": null,
   "id": "6ee750bd",
   "metadata": {},
   "outputs": [],
   "source": []
  }
 ],
 "metadata": {
  "kernelspec": {
   "display_name": "Python 3 (ipykernel)",
   "language": "python",
   "name": "python3"
  },
  "language_info": {
   "codemirror_mode": {
    "name": "ipython",
    "version": 3
   },
   "file_extension": ".py",
   "mimetype": "text/x-python",
   "name": "python",
   "nbconvert_exporter": "python",
   "pygments_lexer": "ipython3",
   "version": "3.10.7"
  }
 },
 "nbformat": 4,
 "nbformat_minor": 5
}
